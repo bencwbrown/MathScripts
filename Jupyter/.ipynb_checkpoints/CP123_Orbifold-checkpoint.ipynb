{
 "cells": [
  {
   "cell_type": "code",
   "execution_count": 1,
   "metadata": {},
   "outputs": [],
   "source": [
    "from sympy import *\n",
    "from sympy.vector import Vector\n",
    "from sympy.vector import CoordSys3D\n",
    "import itertools\n",
    "N = CoordSys3D('N')\n",
    "\n",
    "t, k, d, q = symbols( 't k d q' )\n",
    "init_printing(use_unicode=True)\n",
    "\n",
    "# Define the weights for the weighted projective space:\n",
    "\n",
    "Q = [1, 2, 3]"
   ]
  },
  {
   "cell_type": "markdown",
   "metadata": {},
   "source": [
    "Define the product of factors that appear in the denominator for the Lefschetz number, that is:\n",
    "\n",
    "$$\\prod_{m \\neq n} \\bigg(1 - e^{(1 - q_{m}/q_{n})t} \\cdot e^{(q_{m}/q_{n})q} \\bigg)$$"
   ]
  },
  {
   "cell_type": "code",
   "execution_count": 2,
   "metadata": {},
   "outputs": [
    {
     "data": {
      "image/png": "[encoded data removed]",
      "text/latex": [
       "$\\displaystyle \\frac{e^{i \\pi d t}}{\\left(1 - e^{- i \\pi t}\\right)^{2}}$"
      ],
      "text/plain": [
       "    ⅈ⋅π⋅d⋅t   \n",
       "   ℯ          \n",
       "──────────────\n",
       "             2\n",
       "⎛     -ⅈ⋅π⋅t⎞ \n",
       "⎝1 - ℯ      ⎠ "
      ]
     },
     "execution_count": 2,
     "metadata": {},
     "output_type": "execute_result"
    }
   ],
   "source": [
    "def Factor(Qm, Qr, P):\n",
    "    return ( 1 - ( exp( 2*pi*I*t*( 1 - Rational(Qm, Qr) ) ) ) * exp( 2*pi*I*P*Rational(Qm, Qr) ) )\n",
    "\n",
    "def Term(Qm, Qr, P, d):\n",
    "    return exp( 2*pi*I*t*d / Qr ) / ( Factor(Qm, Qr, P) * Factor(Qm, Qr, P) ) \n",
    "\n",
    "# Term(Q[2], Q[1], 2, d)\n",
    "# simplify( exp( 2*pi*I*t*d/Q[2] ) / ( Factor(Q[0], Q[2], q) * Factor(Q[1], Q[2], q) ) )"
   ]
  },
  {
   "cell_type": "code",
   "execution_count": 21,
   "metadata": {},
   "outputs": [
    {
     "data": {
      "image/png": "[encoded data removed]",
      "text/latex": [
       "$\\displaystyle \\frac{\\left(\\frac{1}{\\left(1 - e^{- \\frac{i t}{2}}\\right) \\left(1 - e^{\\frac{i t}{2}}\\right)} + \\frac{1}{\\left(1 - e^{\\frac{3 i}{2}} e^{- \\frac{i t}{2}}\\right) \\left(- e^{\\frac{i}{2}} e^{\\frac{i t}{2}} + 1\\right)}\\right) e^{\\frac{i d t}{2}}}{2} + \\frac{\\left(\\frac{1}{\\left(- e^{\\frac{i}{3}} e^{\\frac{2 i t}{3}} + 1\\right) \\left(- e^{\\frac{2 i}{3}} e^{\\frac{i t}{3}} + 1\\right)} + \\frac{1}{\\left(- e^{\\frac{i}{3}} e^{\\frac{i t}{3}} + 1\\right) \\left(- e^{\\frac{2 i}{3}} e^{\\frac{2 i t}{3}} + 1\\right)} + \\frac{1}{\\left(1 - e^{\\frac{i t}{3}}\\right) \\left(1 - e^{\\frac{2 i t}{3}}\\right)}\\right) e^{\\frac{i d t}{3}}}{3} + \\frac{e^{i d t}}{\\left(1 - e^{- 2 i t}\\right) \\left(1 - e^{- i t}\\right)}$"
      ],
      "text/plain": [
       "                                                               ⅈ⋅d⋅t          \n",
       "                                                               ─────          \n",
       "⎛           1                              1                ⎞    2     ⎛      \n",
       "⎜─────────────────────── + ─────────────────────────────────⎟⋅ℯ        ⎜──────\n",
       "⎜⎛     -ⅈ⋅t ⎞ ⎛     ⅈ⋅t⎞   ⎛     3⋅ⅈ  -ⅈ⋅t ⎞ ⎛   ⅈ  ⅈ⋅t    ⎞⎟          ⎜⎛   ⅈ \n",
       "⎜⎜     ─────⎟ ⎜     ───⎟   ⎜     ───  ─────⎟ ⎜   ─  ───    ⎟⎟          ⎜⎜   ─ \n",
       "⎜⎜       2  ⎟ ⎜      2 ⎟   ⎜      2     2  ⎟ ⎜   2   2     ⎟⎟          ⎜⎜   3 \n",
       "⎝⎝1 - ℯ     ⎠⋅⎝1 - ℯ   ⎠   ⎝1 - ℯ   ⋅ℯ     ⎠⋅⎝- ℯ ⋅ℯ    + 1⎠⎠          ⎝⎝- ℯ ⋅\n",
       "──────────────────────────────────────────────────────────────────── + ───────\n",
       "                                 2                                            \n",
       "                                                                              \n",
       "\n",
       "                                                                              \n",
       "                                                                              \n",
       "           1                                     1                            \n",
       "───────────────────────────── + ─────────────────────────────────── + ────────\n",
       " 2⋅ⅈ⋅t    ⎞ ⎛   2⋅ⅈ  ⅈ⋅t    ⎞   ⎛   ⅈ  ⅈ⋅t    ⎞ ⎛   2⋅ⅈ  2⋅ⅈ⋅t    ⎞   ⎛     ⅈ⋅\n",
       " ─────    ⎟ ⎜   ───  ───    ⎟   ⎜   ─  ───    ⎟ ⎜   ───  ─────    ⎟   ⎜     ──\n",
       "   3      ⎟ ⎜    3    3     ⎟   ⎜   3   3     ⎟ ⎜    3     3      ⎟   ⎜      3\n",
       "ℯ      + 1⎠⋅⎝- ℯ   ⋅ℯ    + 1⎠   ⎝- ℯ ⋅ℯ    + 1⎠⋅⎝- ℯ   ⋅ℯ      + 1⎠   ⎝1 - ℯ  \n",
       "──────────────────────────────────────────────────────────────────────────────\n",
       "                                              3                               \n",
       "                                                                              \n",
       "\n",
       "                  ⅈ⋅d⋅t                            \n",
       "                  ─────                            \n",
       "   1           ⎞    3                              \n",
       "───────────────⎟⋅ℯ                                 \n",
       "t⎞ ⎛     2⋅ⅈ⋅t⎞⎟                                   \n",
       "─⎟ ⎜     ─────⎟⎟                                   \n",
       " ⎟ ⎜       3  ⎟⎟                     ⅈ⋅d⋅t         \n",
       " ⎠⋅⎝1 - ℯ     ⎠⎠                    ℯ              \n",
       "─────────────────────── + ─────────────────────────\n",
       "                          ⎛     -2⋅ⅈ⋅t⎞ ⎛     -ⅈ⋅t⎞\n",
       "                          ⎝1 - ℯ      ⎠⋅⎝1 - ℯ    ⎠"
      ]
     },
     "execution_count": 21,
     "metadata": {},
     "output_type": "execute_result"
    }
   ],
   "source": [
    "#def Exp(t):\n",
    "#    return exp( 2*pi*I*t )\n",
    "\n",
    "def Exp(t):\n",
    "    return exp( 2*pi*I*t )\n",
    "\n",
    "def Sum0(t,d):\n",
    "    return Exp(d*t*Rational(1,1)) / ( ( 1 - Exp(-t) ) * ( 1 - Exp(-2*t) ) ) \n",
    "\n",
    "def Sum1(t,d):\n",
    "    return ( Rational(1,2) * Exp(d*t*Rational(1,2)) ) * ( (1 / ( ( 1 - Exp(t/2) ) * ( 1 - Exp(-t/2) ) ) ) + ( 1 / ( ( 1 - Exp( t/2 )*Exp( Rational(1,2) ) ) * ( 1 - Exp( -t/2 )*Exp( Rational(3,2) ) ) ) ) ) \n",
    "\n",
    "def Sum2(t,d):\n",
    "    return simplify( Rational(1,3) * Exp(d*t*Rational(1,3)) ) * ( (1 / ( ( 1 - Exp(2*t/3) ) * ( 1 - Exp(t/3) ) ) ) + ( 1 / ( ( 1 - Exp(2*t/3)*Exp( Rational(1,3) ) ) * ( 1 - Exp(t/3)*Exp( Rational(2,3) ) ) ) ) + ( 1 / ( ( 1 - Exp(2*t/3)*Exp( Rational(2,3) ) ) * ( 1 - Exp(t/3)*Exp( Rational(1,3) ) ) ) ) ) \n",
    "\n",
    "def Sum(t,d):\n",
    "    return Sum0(t,d) + Sum1(t,d) + Sum2(t,d)\n",
    "\n",
    "Sum(t,d)"
   ]
  },
  {
   "cell_type": "code",
   "execution_count": 22,
   "metadata": {},
   "outputs": [],
   "source": [
    "def lim(t,d):\n",
    "    return limit(Sum0(t,d) + Sum1(t,d) + Sum2(t,d), t, 0)"
   ]
  },
  {
   "cell_type": "code",
   "execution_count": 24,
   "metadata": {},
   "outputs": [
    {
     "data": {
      "image/png": "[encoded data removed]",
      "text/latex": [
       "$\\displaystyle \\frac{563 - 1006 e^{\\frac{3 i}{2}} - 479 e^{\\frac{7 i}{3}} - 515 e^{\\frac{2 i}{3}} - 479 e^{\\frac{5 i}{2}} - 527 e^{\\frac{i}{2}} - 479 e^{\\frac{8 i}{3}} - 515 e^{\\frac{i}{3}} + 479 e^{3 i} + 479 e^{\\frac{5 i}{6}} + 479 e^{\\frac{13 i}{6}} + 515 e^{i} + 479 e^{\\frac{7 i}{6}} + 479 e^{\\frac{11 i}{6}} + 527 e^{2 i}}{72 \\left(1 - 2 e^{\\frac{3 i}{2}} - e^{\\frac{7 i}{3}} - e^{\\frac{2 i}{3}} - e^{\\frac{5 i}{2}} - e^{\\frac{i}{2}} - e^{\\frac{8 i}{3}} - e^{\\frac{i}{3}} + e^{3 i} + e^{\\frac{5 i}{6}} + e^{\\frac{13 i}{6}} + e^{i} + e^{2 i} + e^{\\frac{7 i}{6}} + e^{\\frac{11 i}{6}}\\right)}$"
      ],
      "text/plain": [
       "            3⋅ⅈ        7⋅ⅈ        2⋅ⅈ        5⋅ⅈ        ⅈ        8⋅ⅈ        ⅈ \n",
       "            ───        ───        ───        ───        ─        ───        ─ \n",
       "             2          3          3          2         2         3         3 \n",
       "563 - 1006⋅ℯ    - 479⋅ℯ    - 515⋅ℯ    - 479⋅ℯ    - 527⋅ℯ  - 479⋅ℯ    - 515⋅ℯ  \n",
       "──────────────────────────────────────────────────────────────────────────────\n",
       "                             ⎛       3⋅ⅈ    7⋅ⅈ    2⋅ⅈ    5⋅ⅈ    ⅈ    8⋅ⅈ    ⅈ\n",
       "                             ⎜       ───    ───    ───    ───    ─    ───    ─\n",
       "                             ⎜        2      3      3      2     2     3     3\n",
       "                          72⋅⎝1 - 2⋅ℯ    - ℯ    - ℯ    - ℯ    - ℯ  - ℯ    - ℯ \n",
       "\n",
       "                  5⋅ⅈ        13⋅ⅈ                 7⋅ⅈ        11⋅ⅈ           \n",
       "                  ───        ────                 ───        ────           \n",
       "       3⋅ⅈ         6          6          ⅈ         6          6          2⋅ⅈ\n",
       "+ 479⋅ℯ    + 479⋅ℯ    + 479⋅ℯ     + 515⋅ℯ  + 479⋅ℯ    + 479⋅ℯ     + 527⋅ℯ   \n",
       "────────────────────────────────────────────────────────────────────────────\n",
       "           5⋅ⅈ    13⋅ⅈ                7⋅ⅈ    11⋅ⅈ⎞                          \n",
       "           ───    ────                ───    ────⎟                          \n",
       "    3⋅ⅈ     6      6      ⅈ    2⋅ⅈ     6      6  ⎟                          \n",
       " + ℯ    + ℯ    + ℯ     + ℯ  + ℯ    + ℯ    + ℯ    ⎠                          "
      ]
     },
     "execution_count": 24,
     "metadata": {},
     "output_type": "execute_result"
    }
   ],
   "source": [
    "simplify(lim(t,6))"
   ]
  },
  {
   "cell_type": "code",
   "execution_count": null,
   "metadata": {},
   "outputs": [],
   "source": []
  },
  {
   "cell_type": "code",
   "execution_count": null,
   "metadata": {},
   "outputs": [],
   "source": []
  },
  {
   "cell_type": "markdown",
   "metadata": {},
   "source": [
    "## "
   ]
  }
 ],
 "metadata": {
  "kernelspec": {
   "display_name": "Python 3",
   "language": "python",
   "name": "python3"
  },
  "language_info": {
   "codemirror_mode": {
    "name": "ipython",
    "version": 3
   },
   "file_extension": ".py",
   "mimetype": "text/x-python",
   "name": "python",
   "nbconvert_exporter": "python",
   "pygments_lexer": "ipython3",
   "version": "3.8.5"
  }
 },
 "nbformat": 4,
 "nbformat_minor": 4
}
