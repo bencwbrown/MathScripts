{
 "cells": [
  {
   "cell_type": "code",
   "execution_count": 11,
   "metadata": {},
   "outputs": [],
   "source": [
    "from sympy import *\n",
    "from sympy.vector import Vector\n",
    "from sympy.vector import CoordSys3D\n",
    "N = CoordSys3D('N')\n",
    "\n",
    "t, n, m, a = symbols( 't n m a' )\n",
    "init_printing(use_unicode=True)\n",
    "\n",
    "# Define a vector which is not parallel to any edge vector (non-degeneracy), which will eventually be sent to zero:\n",
    "\n",
    "Phi = t*(N.i + 2*N.j)\n",
    "\n",
    "# Basis for the edge/weight vectors for the points \n",
    "\n",
    "v1 = N.i\n",
    "\n",
    "v2 = N.j\n",
    "\n",
    "# Define the term which is summed over each fixed point,\n",
    "# representing the character for the representation\n",
    "\n",
    "def f(P, edge1, edge2):\n",
    "    return exp( Phi.dot(P) ) / ( (1 - exp( Phi.dot(edge1) ) ) * ( 1 - exp( Phi.dot(edge2) ) ) )\n"
   ]
  },
  {
   "cell_type": "markdown",
   "metadata": {},
   "source": [
    "Let us also label the vertices in the polyptych; the $P$'s denote interior vertices from the core, and the $Q$'s denote exterior vertices that come about from the cutting. We label them according to which intersection of hyperplanes defines each one:"
   ]
  },
  {
   "cell_type": "code",
   "execution_count": 50,
   "metadata": {},
   "outputs": [],
   "source": [
    "# Define the interior points which make up the vertices to the core:\n",
    "\n",
    "def P12(n,m):\n",
    "    return Vector.zero\n",
    "\n",
    "def P23(n,m):\n",
    "    return n*v1\n",
    "\n",
    "def P13(n,m):\n",
    "    return n*v2\n",
    "\n",
    "def P14(n,m):\n",
    "    return (n+m)*v2\n",
    "\n",
    "def P34(n,m):\n",
    "    return -m*v1 + (n+m)*v2\n",
    "\n",
    "# Exterior points resulting from the cut:\n",
    "\n",
    "# For P12:\n",
    "\n",
    "def Q121(n,m):\n",
    "    return -(a/2)*v2\n",
    "\n",
    "def Q122(n,m):\n",
    "    return -a*v1\n",
    "\n",
    "# For P23:\n",
    "\n",
    "def Q232(n,m):\n",
    "    return (n + a)*v1\n",
    "\n",
    "def Q233(n,m):\n",
    "    return (n + a/2)*v1 - (a/2)*v2\n",
    "\n",
    "# For P14:\n",
    "\n",
    "def Q141(n,m):\n",
    "    return (2*n + m + a)*v2\n",
    "\n",
    "def Q144(n,m):\n",
    "    return (n + a)*v1 + (n + m)*v2\n",
    "\n",
    "# For P34:\n",
    "\n",
    "def Q343(n,m):\n",
    "    return -(n + m + a)*v1 + (n + m)*v2\n",
    "\n",
    "def Q344(n,m):\n",
    "    return -(n + m + a)*v1 + (2*n + m + a)*v2\n"
   ]
  },
  {
   "cell_type": "markdown",
   "metadata": {},
   "source": [
    "That is, if the hyperplane $\\{ H_{i} \\}_{i=1}^{4}$ are arranged as:\n",
    "\n",
    "$$ H_{1} = \\{ x = 0 \\},\\quad H_{2} = \\{ y = 0 \\},\\quad H_{3} = \\{ x + y = n \\}, \\quad H_{4} = \\{ y = n + m \\}, $$\n",
    "\n",
    "then the polyptych has the following interior vertices:\n",
    "\n",
    "$$ P_{12} = (0,0),\\quad P_{23} = (n,0),\\quad P_{13} = (0,n),\\quad P_{14} = (0, n + m),\\quad P_{34} = (-m, n + m), $$\n",
    "\n",
    "and also the following exterior vertices:\n",
    "\n",
    "$$ Q_{12}^{1} = (0,-\\epsilon/2), \\quad Q_{12}^{2} = (-\\epsilon, 0), \\quad Q_{23}^{2} = (n + \\epsilon, 0), \\quad Q_{23}^{3} = (n + \\epsilon/2, -\\epsilon/2), $$\n",
    "$$ Q_{14}^{1} = (0, 2n + m + \\epsilon), \\quad Q_{14}^{4} = (n + \\epsilon, n + m), \\quad Q_{34}^{3} = (- n - m - \\epsilon, 2n + m + \\epsilon), \\quad Q_{34}^{4} = (-n - m - \\epsilon, n + m). $$"
   ]
  },
  {
   "cell_type": "code",
   "execution_count": null,
   "metadata": {},
   "outputs": [],
   "source": [
    "# For each of the right-angled triangles:\n",
    "\n",
    "def Delta134(a,b):\n",
    "    return f( 0*v1 + 0*v2, v1, -v2 ) + f ( a*v1, -v1, v1 - v2 ) + f( (a + (b/2))*v1 - (b/2)*v2, -v1 + v2, -v1 ) + f( -(b/2)*v2, v1, v2 )\n",
    "\n",
    "# Take the limit as t -> 0 to get the Euler characteristic(?):\n",
    "\n",
    "def Limit(a,b):\n",
    "    return limit(Delta134(a,b),t,0)"
   ]
  },
  {
   "cell_type": "code",
   "execution_count": null,
   "metadata": {},
   "outputs": [],
   "source": []
  },
  {
   "cell_type": "markdown",
   "metadata": {},
   "source": []
  },
  {
   "cell_type": "code",
   "execution_count": null,
   "metadata": {},
   "outputs": [],
   "source": []
  },
  {
   "cell_type": "markdown",
   "metadata": {},
   "source": []
  },
  {
   "cell_type": "code",
   "execution_count": null,
   "metadata": {},
   "outputs": [],
   "source": []
  },
  {
   "cell_type": "code",
   "execution_count": null,
   "metadata": {},
   "outputs": [],
   "source": []
  },
  {
   "cell_type": "code",
   "execution_count": null,
   "metadata": {},
   "outputs": [],
   "source": []
  },
  {
   "cell_type": "code",
   "execution_count": null,
   "metadata": {},
   "outputs": [],
   "source": []
  },
  {
   "cell_type": "code",
   "execution_count": null,
   "metadata": {},
   "outputs": [],
   "source": []
  },
  {
   "cell_type": "code",
   "execution_count": null,
   "metadata": {},
   "outputs": [],
   "source": []
  }
 ],
 "metadata": {
  "kernelspec": {
   "display_name": "Python 3",
   "language": "python",
   "name": "python3"
  },
  "language_info": {
   "codemirror_mode": {
    "name": "ipython",
    "version": 3
   },
   "file_extension": ".py",
   "mimetype": "text/x-python",
   "name": "python",
   "nbconvert_exporter": "python",
   "pygments_lexer": "ipython3",
   "version": "3.7.6"
  }
 },
 "nbformat": 4,
 "nbformat_minor": 4
}
