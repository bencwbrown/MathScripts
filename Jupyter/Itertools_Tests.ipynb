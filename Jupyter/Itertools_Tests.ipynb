{
 "cells": [
  {
   "cell_type": "code",
   "execution_count": 1,
   "metadata": {},
   "outputs": [],
   "source": [
    "from sympy import *\n",
    "from sympy.vector import Vector\n",
    "from sympy.vector import CoordSys3D\n",
    "import itertools\n",
    "\n",
    "x, t, k, d, q, l = symbols( 'x t k d q l' )\n",
    "init_printing(use_unicode=True)\n",
    "\n",
    "# Define the weights for the weighted projective space:\n",
    "\n",
    "Q = [1, k]"
   ]
  },
  {
   "cell_type": "markdown",
   "metadata": {},
   "source": [
    "Define the product of factors that appear in the denominator for the Lefschetz number, that is:\n",
    "\n",
    "$$\\prod_{m \\neq n} \\bigg(1 - e^{(1 - q_{m}/q_{n})t} \\cdot e^{(q_{m}/q_{n})q} \\bigg)$$"
   ]
  },
  {
   "cell_type": "code",
   "execution_count": 4,
   "metadata": {},
   "outputs": [
    {
     "name": "stdout",
     "output_type": "stream",
     "text": [
      "The following points are collinear: [0, -4/5] [2, -24/5]\n",
      "The following points are collinear: [0, -4/5] [-3/5, 2/5]\n",
      "The following points are collinear: [0, -4/5] [2, -1]\n",
      "The following points are collinear: [0, -4/5] [1/7, 1/3]\n",
      "The following points are collinear: [0, -4/5] [3, 2]\n",
      "The following points are collinear: [0, -4/5] [3, 0]\n",
      "The following points are collinear: [0, -4/5] [1, -1]\n",
      "The following points are collinear: [0, -4/5] [-3, -3]\n",
      "The following points are collinear: [2, -24/5] [-3/5, 2/5]\n",
      "The following points are collinear: [2, -24/5] [2, -1]\n",
      "The following points are collinear: [2, -24/5] [1/7, 1/3]\n",
      "The following points are collinear: [2, -24/5] [3, 2]\n",
      "The following points are collinear: [2, -24/5] [3, 0]\n",
      "The following points are collinear: [2, -24/5] [1, -1]\n",
      "The following points are collinear: [2, -24/5] [-3, -3]\n",
      "The following points are collinear: [-3/5, 2/5] [2, -1]\n",
      "The following points are collinear: [-3/5, 2/5] [1/7, 1/3]\n",
      "The following points are collinear: [-3/5, 2/5] [3, 2]\n",
      "The following points are collinear: [-3/5, 2/5] [3, 0]\n",
      "The following points are collinear: [-3/5, 2/5] [1, -1]\n",
      "The following points are collinear: [-3/5, 2/5] [-3, -3]\n",
      "The following points are collinear: [2, -1] [1/7, 1/3]\n",
      "The following points are collinear: [2, -1] [3, 2]\n",
      "The following points are collinear: [2, -1] [3, 0]\n",
      "The following points are collinear: [2, -1] [1, -1]\n",
      "The following points are collinear: [2, -1] [-3, -3]\n",
      "The following points are collinear: [1/7, 1/3] [3, 2]\n",
      "The following points are collinear: [1/7, 1/3] [3, 0]\n",
      "The following points are collinear: [1/7, 1/3] [1, -1]\n",
      "The following points are collinear: [1/7, 1/3] [-3, -3]\n",
      "The following points are collinear: [3, 2] [3, 0]\n",
      "The following points are collinear: [3, 2] [1, -1]\n",
      "The following points are collinear: [3, 2] [-3, -3]\n",
      "The following points are collinear: [3, 0] [1, -1]\n",
      "The following points are collinear: [3, 0] [-3, -3]\n",
      "The following points are collinear: [1, -1] [-3, -3]\n"
     ]
    }
   ],
   "source": [
    "\n",
    "\n",
    "points = (P0, P1, P2, P3, P4, P5, P6, P7, P8)\n",
    "\n",
    "# Start with an empty list into which we place our triples\n",
    "\n",
    "pairs = []\n",
    "\n",
    "for point0, point1 in itertools.combinations(points, 2):\n",
    "    \n",
    "    # For the 3 points point0, point1, point2 check for colinearity by computing the corresponding matrix\n",
    "    \n",
    "    point0 = list(point0)\n",
    "    point1 = list(point1)\n",
    "    \n",
    "    print('The following points are collinear:', point0, point1)\n"
   ]
  },
  {
   "cell_type": "code",
   "execution_count": null,
   "metadata": {},
   "outputs": [],
   "source": [
    "Q = \n",
    "\n",
    "points = (P0, P1, P2, P3, P4, P5, P6, P7, P8)\n",
    "\n",
    "# Start with an empty list into which we place our triples\n",
    "\n",
    "triples = []\n",
    "\n",
    "for point0, point1 in itertools.combinations(points, 2):\n",
    "    \n",
    "    # For the 3 points point0, point1, point2 check for colinearity by computing the corresponding matrix\n",
    "    \n",
    "    point0 = list(point0)\n",
    "    point1 = list(point1)\n",
    "    \n",
    "    print('The following points are collinear:', point0, point1)\n"
   ]
  },
  {
   "cell_type": "code",
   "execution_count": 77,
   "metadata": {},
   "outputs": [],
   "source": []
  },
  {
   "cell_type": "code",
   "execution_count": null,
   "metadata": {},
   "outputs": [],
   "source": []
  },
  {
   "cell_type": "code",
   "execution_count": null,
   "metadata": {},
   "outputs": [],
   "source": []
  },
  {
   "cell_type": "code",
   "execution_count": 80,
   "metadata": {},
   "outputs": [],
   "source": []
  },
  {
   "cell_type": "code",
   "execution_count": 5,
   "metadata": {},
   "outputs": [],
   "source": [
    "P = Product(x, (x, 1, 3))"
   ]
  },
  {
   "cell_type": "code",
   "execution_count": 6,
   "metadata": {},
   "outputs": [
    {
     "data": {
      "image/png": "[encoded data removed]",
      "text/latex": [
       "$\\displaystyle \\prod_{x=1}^{3} x$"
      ],
      "text/plain": [
       "  3    \n",
       "─┬─┬─  \n",
       " │ │  x\n",
       " │ │   \n",
       "x = 1  "
      ]
     },
     "execution_count": 6,
     "metadata": {},
     "output_type": "execute_result"
    }
   ],
   "source": [
    "P"
   ]
  },
  {
   "cell_type": "code",
   "execution_count": 10,
   "metadata": {},
   "outputs": [
    {
     "data": {
      "image/png": "[encoded data removed]",
      "text/latex": [
       "$\\displaystyle \\left[ 1, \\  - \\frac{1}{2} - \\frac{\\sqrt{3} i}{2}, \\  - \\frac{1}{2} + \\frac{\\sqrt{3} i}{2}\\right]$"
      ],
      "text/plain": [
       "⎡     1   √3⋅ⅈ    1   √3⋅ⅈ⎤\n",
       "⎢1, - ─ - ────, - ─ + ────⎥\n",
       "⎣     2    2      2    2  ⎦"
      ]
     },
     "execution_count": 10,
     "metadata": {},
     "output_type": "execute_result"
    }
   ],
   "source": [
    "[rootof(x**3 - 1,i) for i in range(3)]"
   ]
  },
  {
   "cell_type": "code",
   "execution_count": null,
   "metadata": {},
   "outputs": [],
   "source": []
  }
 ],
 "metadata": {
  "kernelspec": {
   "display_name": "Python 3",
   "language": "python",
   "name": "python3"
  },
  "language_info": {
   "codemirror_mode": {
    "name": "ipython",
    "version": 3
   },
   "file_extension": ".py",
   "mimetype": "text/x-python",
   "name": "python",
   "nbconvert_exporter": "python",
   "pygments_lexer": "ipython3",
   "version": "3.8.5"
  }
 },
 "nbformat": 4,
 "nbformat_minor": 4
}
