{
 "cells": [
  {
   "cell_type": "code",
   "execution_count": 35,
   "metadata": {},
   "outputs": [],
   "source": [
    "from sympy import *\n",
    "from sympy.vector import Vector\n",
    "from sympy.vector import CoordSys3D\n",
    "N = CoordSys3D('N')\n",
    "\n",
    "t, n, m, a = symbols( 't n m a' )\n",
    "init_printing(use_unicode=True)\n",
    "\n",
    "# Define a vector which is not parallel to any edge vector (non-degeneracy), which will eventually be sent to zero:\n",
    "\n",
    "Phi = t*(1*N.i + 3*N.j)\n",
    "\n",
    "# Basis for the edge/weight vectors for the points \n",
    "\n",
    "v1 = N.i\n",
    "\n",
    "v2 = N.j\n",
    "\n",
    "# Define the term which is summed over each fixed point,\n",
    "# representing the character for the representation\n",
    "\n",
    "def f(P, edge1, edge2):\n",
    "    return exp( Phi.dot(P) ) / ( (1 - exp( Phi.dot(edge1) ) ) * ( 1 - exp( Phi.dot(edge2) ) ) )\n"
   ]
  },
  {
   "cell_type": "markdown",
   "metadata": {},
   "source": [
    "Let us also label the vertices of the triangle, corresponding to the fixed-points of the $T^{2}$-action. They are at\n",
    "\n",
    "$$ P_{12} = (0,0), \\qquad P_{23} = (2,0), \\qquad P_{13} = (0,1). $$"
   ]
  },
  {
   "cell_type": "code",
   "execution_count": 36,
   "metadata": {},
   "outputs": [],
   "source": [
    "# Define the vertices for the non-primitive triangle:\n",
    "\n",
    "def P12():\n",
    "    return Vector.zero\n",
    "\n",
    "def P23():\n",
    "    return 2*v1\n",
    "\n",
    "def P13():\n",
    "    return v2\n"
   ]
  },
  {
   "cell_type": "markdown",
   "metadata": {},
   "source": [
    "There are two weight vectors for each point $P_{12}, P_{23}$, and $P_{13}$, which we shall denote by $\\alpha_{1}, \\alpha_{2}, \\beta_{1}, \\beta_{2}, \\gamma_{1}$, and $\\gamma_{2}$, respectively. They are:\n",
    "\n",
    "$$ \\alpha_{1} = (1,0),\\ \\alpha_{2} = (0,1), \\qquad \\beta_{1} = (-2,1),\\ \\beta_{2} = (-1,0), \\qquad \\gamma_{1} = (0,-1/2),\\ \\gamma_{2} = (1, - 1/2). $$"
   ]
  },
  {
   "cell_type": "markdown",
   "metadata": {},
   "source": [
    "Finally, we substitute all of this datum into the localisation formula:\n",
    "$$ \\chi(M) = \\lim_{ \\phi \\rightarrow 0 } \\sum_{ Q \\in M^{T} } \\frac{ e^{\\langle \\phi, Q \\rangle }}{ (1 - \\exp(\\langle \\phi, v_{1} \\rangle))(1 - \\exp( \\langle \\phi, v_{2} \\rangle )) }. $$"
   ]
  },
  {
   "cell_type": "code",
   "execution_count": 37,
   "metadata": {},
   "outputs": [],
   "source": [
    "def Delta():\n",
    "    return f( P12(), v1, v2 ) + f ( P23(), -2*v1 + v2, -v1 ) + Rational(1,2)*f( P13(), -Rational(1,2)*v2, v1 - Rational(1,2)*v2 )\n",
    "\n",
    "# Take the limit as t -> 0 to get the Euler characteristic(?):\n",
    "\n",
    "def Limit():\n",
    "    return limit(Delta(),t,0)"
   ]
  },
  {
   "cell_type": "code",
   "execution_count": 38,
   "metadata": {},
   "outputs": [
    {
     "data": {
      "image/png": "[encoded data removed]",
      "text/latex": [
       "$\\displaystyle \\frac{1}{\\left(1 - e^{t}\\right) \\left(1 - e^{3 t}\\right)} + \\frac{e^{2 t}}{\\left(1 - e^{- t}\\right) \\left(1 - e^{t}\\right)} + \\frac{e^{3 t}}{2 \\left(1 - e^{- \\frac{3 t}{2}}\\right) \\left(1 - e^{- \\frac{t}{2}}\\right)}$"
      ],
      "text/plain": [
       "                              2⋅t                      3⋅t          \n",
       "         1                   ℯ                        ℯ             \n",
       "─────────────────── + ────────────────── + ─────────────────────────\n",
       "⎛     t⎞ ⎛     3⋅t⎞   ⎛     -t⎞ ⎛     t⎞     ⎛     -3⋅t ⎞ ⎛     -t ⎞\n",
       "⎝1 - ℯ ⎠⋅⎝1 - ℯ   ⎠   ⎝1 - ℯ  ⎠⋅⎝1 - ℯ ⎠     ⎜     ─────⎟ ⎜     ───⎟\n",
       "                                             ⎜       2  ⎟ ⎜      2 ⎟\n",
       "                                           2⋅⎝1 - ℯ     ⎠⋅⎝1 - ℯ   ⎠"
      ]
     },
     "execution_count": 38,
     "metadata": {},
     "output_type": "execute_result"
    }
   ],
   "source": [
    "Delta()"
   ]
  },
  {
   "cell_type": "code",
   "execution_count": 39,
   "metadata": {},
   "outputs": [
    {
     "data": {
      "image/png": "[encoded data removed]",
      "text/latex": [
       "$\\displaystyle \\frac{31}{8}$"
      ],
      "text/plain": [
       "31/8"
      ]
     },
     "execution_count": 39,
     "metadata": {},
     "output_type": "execute_result"
    }
   ],
   "source": [
    "Limit()"
   ]
  },
  {
   "cell_type": "markdown",
   "metadata": {},
   "source": []
  },
  {
   "cell_type": "code",
   "execution_count": null,
   "metadata": {},
   "outputs": [],
   "source": []
  },
  {
   "cell_type": "code",
   "execution_count": null,
   "metadata": {},
   "outputs": [],
   "source": []
  },
  {
   "cell_type": "code",
   "execution_count": null,
   "metadata": {},
   "outputs": [],
   "source": []
  },
  {
   "cell_type": "code",
   "execution_count": null,
   "metadata": {},
   "outputs": [],
   "source": []
  },
  {
   "cell_type": "code",
   "execution_count": null,
   "metadata": {},
   "outputs": [],
   "source": []
  },
  {
   "cell_type": "code",
   "execution_count": null,
   "metadata": {},
   "outputs": [],
   "source": []
  }
 ],
 "metadata": {
  "kernelspec": {
   "display_name": "Python 3",
   "language": "python",
   "name": "python3"
  },
  "language_info": {
   "codemirror_mode": {
    "name": "ipython",
    "version": 3
   },
   "file_extension": ".py",
   "mimetype": "text/x-python",
   "name": "python",
   "nbconvert_exporter": "python",
   "pygments_lexer": "ipython3",
   "version": "3.7.6"
  }
 },
 "nbformat": 4,
 "nbformat_minor": 4
}
