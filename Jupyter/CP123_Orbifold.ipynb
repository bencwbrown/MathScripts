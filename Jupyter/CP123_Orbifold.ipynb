{
 "cells": [
  {
   "cell_type": "code",
   "execution_count": 1,
   "metadata": {},
   "outputs": [],
   "source": [
    "from sympy import *\n",
    "from sympy.vector import Vector\n",
    "from sympy.vector import CoordSys3D\n",
    "import itertools\n",
    "N = CoordSys3D('N')\n",
    "\n",
    "t, k, d, q = symbols( 't k d q' )\n",
    "init_printing(use_unicode=True)\n",
    "\n",
    "# Define the weights for the weighted projective space:\n",
    "\n",
    "Q = [1, 2, 3]"
   ]
  },
  {
   "cell_type": "markdown",
   "metadata": {},
   "source": [
    "Define the product of factors that appear in the denominator for the Lefschetz number, that is:\n",
    "\n",
    "$$\\prod_{m \\neq n} \\bigg(1 - e^{(1 - q_{m}/q_{n})t} \\cdot e^{(q_{m}/q_{n})q} \\bigg)$$"
   ]
  },
  {
   "cell_type": "code",
   "execution_count": 2,
   "metadata": {},
   "outputs": [
    {
     "data": {
      "image/png": "[encoded data removed]",
      "text/latex": [
       "$\\displaystyle \\frac{e^{i \\pi d t}}{\\left(1 - e^{- i \\pi t}\\right)^{2}}$"
      ],
      "text/plain": [
       "    ⅈ⋅π⋅d⋅t   \n",
       "   ℯ          \n",
       "──────────────\n",
       "             2\n",
       "⎛     -ⅈ⋅π⋅t⎞ \n",
       "⎝1 - ℯ      ⎠ "
      ]
     },
     "execution_count": 2,
     "metadata": {},
     "output_type": "execute_result"
    }
   ],
   "source": [
    "def Factor(Qm, Qr, P):\n",
    "    return ( 1 - ( exp( 2*pi*I*t*( 1 - Rational(Qm, Qr) ) ) ) * exp( 2*pi*I*P*Rational(Qm, Qr) ) )\n",
    "\n",
    "def Term(Qm, Qr, P, d):\n",
    "    return exp( 2*pi*I*t*d / Qr ) / ( Factor(Qm, Qr, P) * Factor(Qm, Qr, P) ) \n",
    "\n",
    "Term(Q[2], Q[1], 2, d)\n",
    "# simplify( exp( 2*pi*I*t*d/Q[2] ) / ( Factor(Q[0], Q[2], q) * Factor(Q[1], Q[2], q) ) )"
   ]
  },
  {
   "cell_type": "code",
   "execution_count": 24,
   "metadata": {},
   "outputs": [],
   "source": [
    "def Exp(t):\n",
    "    return exp( 2*pi*I*t )\n",
    "\n",
    "def Sum0(t,d):\n",
    "    return Exp(d*t) / ( ( 1 - Exp(-t) ) * ( 1 - Exp(-2*t) ) ) \n",
    "\n",
    "def Sum1(t,d):\n",
    "    return ( Rational(1,2) * Exp(d*t) ) * ( (1 / ( ( 1 - Exp(t/2) ) * ( 1 - Exp(-t/2) ) ) ) + ( 1 / ( ( 1 - Exp(t/2)*Exp(Rational(1/2)) ) * ( 1 - Exp(-t/2)*Exp(3/2) ) ) ) ) \n",
    "\n",
    "def Sum2(t,d):\n",
    "    return simplify( Rational(1,3) * Exp(d*t) ) * ( (1 / ( ( 1 - Exp(2*t/3) ) * ( 1 - Exp(t/3) ) ) ) + ( 1 / ( ( 1 - Exp(2*t/3)*Exp(Rational(1,3)) ) * ( 1 - Exp(t/3)*Exp(Rational(2,3)) ) ) ) + ( 1 / ( ( 1 - Exp(2*t/3)*Exp(Rational(2,3)) ) * ( 1 - Exp(t/3)*Exp(Rational(1,3)) ) ) ) ) \n",
    "\n",
    "def Sum(t,d):\n",
    "    return simplify(Sum0(t,d) + Sum1(t,d) + Sum2(t,d))"
   ]
  },
  {
   "cell_type": "code",
   "execution_count": 26,
   "metadata": {},
   "outputs": [
    {
     "data": {
      "image/png": "[encoded data removed]",
      "text/latex": [
       "$\\displaystyle \\frac{-7 + 7 \\sqrt[3]{-1} + 20 \\left(-1\\right)^{\\frac{2}{3}}}{-9 + 9 \\sqrt[3]{-1} + 18 \\left(-1\\right)^{\\frac{2}{3}}}$"
      ],
      "text/plain": [
       "       3 ____          2/3\n",
       "-7 + 7⋅╲╱ -1  + 20⋅(-1)   \n",
       "──────────────────────────\n",
       "       3 ____          2/3\n",
       "-9 + 9⋅╲╱ -1  + 18⋅(-1)   "
      ]
     },
     "execution_count": 26,
     "metadata": {},
     "output_type": "execute_result"
    }
   ],
   "source": [
    "limit(Sum(t,d), t, 0)"
   ]
  },
  {
   "cell_type": "code",
   "execution_count": 31,
   "metadata": {},
   "outputs": [
    {
     "data": {
      "image/png": "[encoded data removed]",
      "text/latex": [
       "$\\displaystyle \\frac{e^{\\frac{2 i \\pi d}{3}}}{- e^{\\frac{2 i \\pi q}{3}} e^{\\frac{4 i \\pi t}{3}} + 1}$"
      ],
      "text/plain": [
       "         2⋅ⅈ⋅π⋅d       \n",
       "         ───────       \n",
       "            3          \n",
       "        ℯ              \n",
       "───────────────────────\n",
       "   2⋅ⅈ⋅π⋅q  4⋅ⅈ⋅π⋅t    \n",
       "   ───────  ───────    \n",
       "      3        3       \n",
       "- ℯ       ⋅ℯ        + 1"
      ]
     },
     "execution_count": 31,
     "metadata": {},
     "output_type": "execute_result"
    }
   ],
   "source": [
    "# TODO:\n",
    "\n",
    "# def Term(qm, qr, q, d):\n",
    "#     return exp( 2*pi*I*d/qr ) / Factor(qm, qr, q)\n",
    "\n",
    "# Term(Q[0], Q[2], q, d)"
   ]
  },
  {
   "cell_type": "code",
   "execution_count": 22,
   "metadata": {},
   "outputs": [
    {
     "name": "stdout",
     "output_type": "stream",
     "text": [
      "1\n",
      "2\n",
      "3\n"
     ]
    }
   ],
   "source": [
    "# Getting length of list\n",
    "#n = len(Q)\n",
    "#r = 0\n",
    "  \n",
    "# Iterating using while loop\n",
    "#while r < n:\n",
    "#    print(Q[r])\n",
    "#    r += 1"
   ]
  },
  {
   "cell_type": "code",
   "execution_count": 41,
   "metadata": {},
   "outputs": [
    {
     "ename": "TypeError",
     "evalue": "'int' object is not iterable",
     "output_type": "error",
     "traceback": [
      "\u001b[0;31m---------------------------------------------------------------------------\u001b[0m",
      "\u001b[0;31mTypeError\u001b[0m                                 Traceback (most recent call last)",
      "\u001b[0;32m<ipython-input-41-f3bf20302ead>\u001b[0m in \u001b[0;36m<module>\u001b[0;34m\u001b[0m\n\u001b[1;32m      1\u001b[0m \u001b[0;32mfor\u001b[0m \u001b[0mq0\u001b[0m\u001b[0;34m,\u001b[0m \u001b[0mq1\u001b[0m \u001b[0;32min\u001b[0m \u001b[0mitertools\u001b[0m\u001b[0;34m.\u001b[0m\u001b[0mcombinations\u001b[0m\u001b[0;34m(\u001b[0m\u001b[0mQ\u001b[0m\u001b[0;34m,\u001b[0m \u001b[0;36m2\u001b[0m\u001b[0;34m)\u001b[0m\u001b[0;34m:\u001b[0m\u001b[0;34m\u001b[0m\u001b[0;34m\u001b[0m\u001b[0m\n\u001b[1;32m      2\u001b[0m \u001b[0;34m\u001b[0m\u001b[0m\n\u001b[0;32m----> 3\u001b[0;31m     \u001b[0mq0\u001b[0m \u001b[0;34m=\u001b[0m \u001b[0mlist\u001b[0m\u001b[0;34m(\u001b[0m\u001b[0mq0\u001b[0m\u001b[0;34m)\u001b[0m\u001b[0;34m\u001b[0m\u001b[0;34m\u001b[0m\u001b[0m\n\u001b[0m\u001b[1;32m      4\u001b[0m     \u001b[0mq1\u001b[0m \u001b[0;34m=\u001b[0m \u001b[0mlist\u001b[0m\u001b[0;34m(\u001b[0m\u001b[0mq1\u001b[0m\u001b[0;34m)\u001b[0m\u001b[0;34m\u001b[0m\u001b[0;34m\u001b[0m\u001b[0m\n\u001b[1;32m      5\u001b[0m \u001b[0;34m\u001b[0m\u001b[0m\n",
      "\u001b[0;31mTypeError\u001b[0m: 'int' object is not iterable"
     ]
    }
   ],
   "source": [
    "#for q0, q1 in itertools.combinations(Q, 2):\n",
    "\n",
    "#    q0 = list(q0)\n",
    "#    q1 = list(q1)\n",
    "    \n",
    "#    print(q1, q2)"
   ]
  },
  {
   "cell_type": "markdown",
   "metadata": {},
   "source": [
    "## "
   ]
  }
 ],
 "metadata": {
  "kernelspec": {
   "display_name": "Python 3",
   "language": "python",
   "name": "python3"
  },
  "language_info": {
   "codemirror_mode": {
    "name": "ipython",
    "version": 3
   },
   "file_extension": ".py",
   "mimetype": "text/x-python",
   "name": "python",
   "nbconvert_exporter": "python",
   "pygments_lexer": "ipython3",
   "version": "3.8.5"
  }
 },
 "nbformat": 4,
 "nbformat_minor": 4
}
