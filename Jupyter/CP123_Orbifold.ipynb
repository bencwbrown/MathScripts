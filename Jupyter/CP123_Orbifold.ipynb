{
 "cells": [
  {
   "cell_type": "code",
   "execution_count": 1,
   "metadata": {},
   "outputs": [],
   "source": [
    "from sympy import *\n",
    "from sympy.vector import Vector\n",
    "from sympy.vector import CoordSys3D\n",
    "import itertools\n",
    "N = CoordSys3D('N')\n",
    "\n",
    "t, k, d, q = symbols( 't k d q' )\n",
    "init_printing(use_unicode=True)\n",
    "\n",
    "# Define the weights for the weighted projective space:\n",
    "\n",
    "Q = [1, 2, 3]"
   ]
  },
  {
   "cell_type": "markdown",
   "metadata": {},
   "source": [
    "Define the product of factors that appear in the denominator for the Lefschetz number, that is:\n",
    "\n",
    "$$\\prod_{m \\neq n} \\bigg(1 - e^{(1 - q_{m}/q_{n})t} \\cdot e^{(q_{m}/q_{n})q} \\bigg)$$"
   ]
  },
  {
   "cell_type": "code",
   "execution_count": 32,
   "metadata": {},
   "outputs": [],
   "source": [
    "#def Factor(Qm, Qr, P):\n",
    "#    return ( 1 - ( exp( 2*pi*I*t*( 1 - Rational(Qm, Qr) ) ) ) * exp( 2*pi*I*P*Rational(Qm, Qr) ) )\n",
    "\n",
    "#def Term(Qm, Qr, P, d):\n",
    "#    return exp( 2*pi*I*t*d / Qr ) / ( Factor(Qm, Qr, P) * Factor(Qm, Qr, P) ) \n",
    "\n",
    "# Term(Q[2], Q[1], 2, d)\n",
    "# simplify( exp( 2*pi*I*t*d/Q[2] ) / ( Factor(Q[0], Q[2], q) * Factor(Q[1], Q[2], q) ) )"
   ]
  },
  {
   "cell_type": "code",
   "execution_count": 25,
   "metadata": {},
   "outputs": [
    {
     "data": {
      "image/png": "[encoded data removed]",
      "text/latex": [
       "$\\displaystyle \\frac{\\left(\\frac{1}{\\left(1 + e^{- i \\pi t}\\right) \\left(e^{i \\pi t} + 1\\right)} + \\frac{1}{\\left(1 - e^{- i \\pi t}\\right) \\left(1 - e^{i \\pi t}\\right)}\\right) e^{i \\pi d t}}{2} + \\frac{\\left(\\frac{1}{\\left(- e^{- \\frac{2 i \\pi}{3}} e^{\\frac{4 i \\pi t}{3}} + 1\\right) \\left(- e^{\\frac{2 i \\pi}{3}} e^{\\frac{2 i \\pi t}{3}} + 1\\right)} + \\frac{1}{\\left(- e^{- \\frac{2 i \\pi}{3}} e^{\\frac{2 i \\pi t}{3}} + 1\\right) \\left(- e^{\\frac{2 i \\pi}{3}} e^{\\frac{4 i \\pi t}{3}} + 1\\right)} + \\frac{1}{\\left(1 - e^{\\frac{2 i \\pi t}{3}}\\right) \\left(1 - e^{\\frac{4 i \\pi t}{3}}\\right)}\\right) e^{\\frac{2 i \\pi d t}{3}}}{3} + \\frac{e^{2 i \\pi d t}}{\\left(1 - e^{- 4 i \\pi t}\\right) \\left(1 - e^{- 2 i \\pi t}\\right)}$"
      ],
      "text/plain": [
       "                                                                              \n",
       "                                                                              \n",
       "                                                                     ⎛        \n",
       "                                                                     ⎜────────\n",
       "⎛            1                            1             ⎞  ⅈ⋅π⋅d⋅t   ⎜⎛   -2⋅ⅈ\n",
       "⎜────────────────────────── + ──────────────────────────⎟⋅ℯ          ⎜⎜   ────\n",
       "⎜⎛     -ⅈ⋅π⋅t⎞ ⎛ ⅈ⋅π⋅t    ⎞   ⎛     -ⅈ⋅π⋅t⎞ ⎛     ⅈ⋅π⋅t⎞⎟            ⎜⎜      3\n",
       "⎝⎝1 + ℯ      ⎠⋅⎝ℯ      + 1⎠   ⎝1 - ℯ      ⎠⋅⎝1 - ℯ     ⎠⎠            ⎝⎝- ℯ    \n",
       "────────────────────────────────────────────────────────────────── + ─────────\n",
       "                                2                                             \n",
       "                                                                              \n",
       "\n",
       "                                                                              \n",
       "                                                                              \n",
       "                1                                                   1         \n",
       "───────────────────────────────────────── + ──────────────────────────────────\n",
       "⋅π   4⋅ⅈ⋅π⋅t    ⎞ ⎛   2⋅ⅈ⋅π  2⋅ⅈ⋅π⋅t    ⎞   ⎛   -2⋅ⅈ⋅π   2⋅ⅈ⋅π⋅t    ⎞ ⎛   2⋅ⅈ⋅\n",
       "───  ───────    ⎟ ⎜   ─────  ───────    ⎟   ⎜   ───────  ───────    ⎟ ⎜   ────\n",
       "        3       ⎟ ⎜     3       3       ⎟   ⎜      3        3       ⎟ ⎜     3 \n",
       "   ⋅ℯ        + 1⎠⋅⎝- ℯ     ⋅ℯ        + 1⎠   ⎝- ℯ       ⋅ℯ        + 1⎠⋅⎝- ℯ    \n",
       "──────────────────────────────────────────────────────────────────────────────\n",
       "                                                               3              \n",
       "                                                                              \n",
       "\n",
       "                                                  2⋅ⅈ⋅π⋅d⋅t                   \n",
       "                                                  ─────────                   \n",
       "                                1              ⎞      3                       \n",
       "─────────────── + ─────────────────────────────⎟⋅ℯ                            \n",
       "π  4⋅ⅈ⋅π⋅t    ⎞   ⎛     2⋅ⅈ⋅π⋅t⎞ ⎛     4⋅ⅈ⋅π⋅t⎞⎟                              \n",
       "─  ───────    ⎟   ⎜     ───────⎟ ⎜     ───────⎟⎟                              \n",
       "      3       ⎟   ⎜        3   ⎟ ⎜        3   ⎟⎟                          2⋅ⅈ⋅\n",
       " ⋅ℯ        + 1⎠   ⎝1 - ℯ       ⎠⋅⎝1 - ℯ       ⎠⎠                         ℯ    \n",
       "─────────────────────────────────────────────────────────── + ────────────────\n",
       "                                                              ⎛     -4⋅ⅈ⋅π⋅t⎞ \n",
       "                                                              ⎝1 - ℯ        ⎠⋅\n",
       "\n",
       "               \n",
       "               \n",
       "               \n",
       "               \n",
       "               \n",
       "               \n",
       "π⋅d⋅t          \n",
       "               \n",
       "───────────────\n",
       "⎛     -2⋅ⅈ⋅π⋅t⎞\n",
       "⎝1 - ℯ        ⎠"
      ]
     },
     "execution_count": 25,
     "metadata": {},
     "output_type": "execute_result"
    }
   ],
   "source": [
    "#def Exp(t):\n",
    "#    return exp( 2*pi*I*t )\n",
    "\n",
    "def Exp(t):\n",
    "    return exp( 2*pi*I*t )\n",
    "\n",
    "def Sum0(t,d):\n",
    "    return Exp(d*t*Rational(1,1)) / ( ( 1 - Exp(-t) ) * ( 1 - Exp(-2*t) ) ) \n",
    "\n",
    "def Sum1(t,d):\n",
    "    return ( Rational(1,2) * Exp(d*t*Rational(1,2)) ) * ( (1 / ( ( 1 - Exp(t/2) ) * ( 1 - Exp(-t/2) ) ) ) + ( 1 / ( ( 1 - Exp( t/2 )*Exp( Rational(1,2) ) ) * ( 1 - Exp( -t/2 )*Exp( Rational(3,2) ) ) ) ) ) \n",
    "\n",
    "def Sum2(t,d):\n",
    "    return simplify( Rational(1,3) * Exp(d*t*Rational(1,3)) ) * ( (1 / ( ( 1 - Exp(2*t/3) ) * ( 1 - Exp(t/3) ) ) ) + ( 1 / ( ( 1 - Exp(2*t/3)*Exp( Rational(1,3) ) ) * ( 1 - Exp(t/3)*Exp( Rational(2,3) ) ) ) ) + ( 1 / ( ( 1 - Exp(2*t/3)*Exp( Rational(2,3) ) ) * ( 1 - Exp(t/3)*Exp( Rational(1,3) ) ) ) ) ) \n",
    "\n",
    "def Sum(t,d):\n",
    "    return Sum0(t,d) + Sum1(t,d) + Sum2(t,d)\n",
    "\n",
    "Sum(t,d)"
   ]
  },
  {
   "cell_type": "code",
   "execution_count": 33,
   "metadata": {},
   "outputs": [
    {
     "data": {
      "image/png": "[encoded data removed]",
      "text/latex": [
       "$\\displaystyle \\frac{\\left(\\frac{1}{\\left(1 - e^{- \\frac{t}{2}}\\right) \\left(1 - e^{\\frac{t}{2}}\\right)} + \\frac{1}{\\left(1 - e^{\\frac{3}{2}} e^{- \\frac{t}{2}}\\right) \\left(- e^{\\frac{1}{2}} e^{\\frac{t}{2}} + 1\\right)}\\right) e^{\\frac{d t}{2}}}{2} + \\frac{\\left(\\frac{1}{\\left(- e^{\\frac{1}{3}} e^{\\frac{2 t}{3}} + 1\\right) \\left(- e^{\\frac{2}{3}} e^{\\frac{t}{3}} + 1\\right)} + \\frac{1}{\\left(- e^{\\frac{1}{3}} e^{\\frac{t}{3}} + 1\\right) \\left(- e^{\\frac{2}{3}} e^{\\frac{2 t}{3}} + 1\\right)} + \\frac{1}{\\left(1 - e^{\\frac{t}{3}}\\right) \\left(1 - e^{\\frac{2 t}{3}}\\right)}\\right) e^{\\frac{d t}{3}}}{3} + \\frac{e^{d t}}{\\left(1 - e^{- 2 t}\\right) \\left(1 - e^{- t}\\right)}$"
      ],
      "text/plain": [
       "                                                         d⋅t                  \n",
       "                                                         ───                  \n",
       "⎛         1                           1               ⎞   2    ⎛              \n",
       "⎜─────────────────── + ───────────────────────────────⎟⋅ℯ      ⎜──────────────\n",
       "⎜⎛     -t ⎞ ⎛     t⎞   ⎛          -t ⎞ ⎛        t    ⎞⎟        ⎜⎛        2⋅t  \n",
       "⎜⎜     ───⎟ ⎜     ─⎟   ⎜          ───⎟ ⎜        ─    ⎟⎟        ⎜⎜        ───  \n",
       "⎜⎜      2 ⎟ ⎜     2⎟   ⎜     3/2   2 ⎟ ⎜   1/2  2    ⎟⎟        ⎜⎜   1/3   3   \n",
       "⎝⎝1 - ℯ   ⎠⋅⎝1 - ℯ ⎠   ⎝1 - ℯ   ⋅ℯ   ⎠⋅⎝- ℯ   ⋅ℯ  + 1⎠⎠        ⎝⎝- ℯ   ⋅ℯ    +\n",
       "──────────────────────────────────────────────────────────── + ───────────────\n",
       "                             2                                                \n",
       "                                                                              \n",
       "\n",
       "                                                                              \n",
       "                                                                              \n",
       "  1                                   1                            1         ⎞\n",
       "─────────────────── + ───────────────────────────────── + ───────────────────⎟\n",
       "  ⎞ ⎛        t    ⎞   ⎛        t    ⎞ ⎛        2⋅t    ⎞   ⎛     t⎞ ⎛     2⋅t⎞⎟\n",
       "  ⎟ ⎜        ─    ⎟   ⎜        ─    ⎟ ⎜        ───    ⎟   ⎜     ─⎟ ⎜     ───⎟⎟\n",
       "  ⎟ ⎜   2/3  3    ⎟   ⎜   1/3  3    ⎟ ⎜   2/3   3     ⎟   ⎜     3⎟ ⎜      3 ⎟⎟\n",
       " 1⎠⋅⎝- ℯ   ⋅ℯ  + 1⎠   ⎝- ℯ   ⋅ℯ  + 1⎠⋅⎝- ℯ   ⋅ℯ    + 1⎠   ⎝1 - ℯ ⎠⋅⎝1 - ℯ   ⎠⎠\n",
       "──────────────────────────────────────────────────────────────────────────────\n",
       "                                 3                                            \n",
       "                                                                              \n",
       "\n",
       "  d⋅t                        \n",
       "  ───                        \n",
       "   3                         \n",
       "⋅ℯ                           \n",
       "                             \n",
       "                             \n",
       "                  d⋅t        \n",
       "                 ℯ           \n",
       "───── + ─────────────────────\n",
       "        ⎛     -2⋅t⎞ ⎛     -t⎞\n",
       "        ⎝1 - ℯ    ⎠⋅⎝1 - ℯ  ⎠"
      ]
     },
     "execution_count": 33,
     "metadata": {},
     "output_type": "execute_result"
    }
   ],
   "source": [
    "#def Exp(t):\n",
    "#    return exp( 2*pi*I*t )\n",
    "\n",
    "def Exp(t):\n",
    "    return exp( t )\n",
    "\n",
    "def Sum0(t,d):\n",
    "    return Exp(d*t*Rational(1,1)) / ( ( 1 - Exp(-t) ) * ( 1 - Exp(-2*t) ) ) \n",
    "\n",
    "def Sum1(t,d):\n",
    "    return ( Rational(1,2) * Exp(d*t*Rational(1,2)) ) * ( (1 / ( ( 1 - Exp(t/2) ) * ( 1 - Exp(-t/2) ) ) ) + ( 1 / ( ( 1 - Exp( t/2 )*Exp( Rational(1,2) ) ) * ( 1 - Exp( -t/2 )*Exp( Rational(3,2) ) ) ) ) ) \n",
    "\n",
    "def Sum2(t,d):\n",
    "    return simplify( Rational(1,3) * Exp(d*t*Rational(1,3)) ) * ( (1 / ( ( 1 - Exp(2*t/3) ) * ( 1 - Exp(t/3) ) ) ) + ( 1 / ( ( 1 - Exp(2*t/3)*Exp( Rational(1,3) ) ) * ( 1 - Exp(t/3)*Exp( Rational(2,3) ) ) ) ) + ( 1 / ( ( 1 - Exp(2*t/3)*Exp( Rational(2,3) ) ) * ( 1 - Exp(t/3)*Exp( Rational(1,3) ) ) ) ) ) \n",
    "\n",
    "def Sum(t,d):\n",
    "    return Sum0(t,d) + Sum1(t,d) + Sum2(t,d)\n",
    "\n",
    "Sum(t,d)"
   ]
  },
  {
   "cell_type": "code",
   "execution_count": 38,
   "metadata": {},
   "outputs": [
    {
     "data": {
      "image/png": "[encoded data removed]",
      "text/latex": [
       "$\\displaystyle \\frac{- 6 d^{2} e^{\\frac{8}{3}} - 6 d^{2} e^{\\frac{5}{2}} - 6 d^{2} e^{\\frac{7}{3}} - 12 d^{2} e^{\\frac{3}{2}} - 6 d^{2} e^{\\frac{2}{3}} - 6 d^{2} e^{\\frac{1}{2}} - 6 d^{2} e^{\\frac{1}{3}} + 6 d^{2} + 6 d^{2} e^{\\frac{5}{6}} + 6 e d^{2} + 6 d^{2} e^{\\frac{7}{6}} + 6 d^{2} e^{\\frac{11}{6}} + 6 d^{2} e^{2} + 6 d^{2} e^{\\frac{13}{6}} + 6 d^{2} e^{3} - 36 d e^{\\frac{8}{3}} - 36 d e^{\\frac{5}{2}} - 36 d e^{\\frac{7}{3}} - 72 d e^{\\frac{3}{2}} - 36 d e^{\\frac{2}{3}} - 36 d e^{\\frac{1}{2}} - 36 d e^{\\frac{1}{3}} + 36 d + 36 d e^{\\frac{5}{6}} + 36 e d + 36 d e^{\\frac{7}{6}} + 36 d e^{\\frac{11}{6}} + 36 d e^{2} + 36 d e^{\\frac{13}{6}} + 36 d e^{3} - 47 e^{\\frac{8}{3}} - 142 e^{\\frac{3}{2}} - 47 e^{\\frac{5}{2}} - 47 e^{\\frac{7}{3}} - 83 e^{\\frac{2}{3}} - 95 e^{\\frac{1}{2}} - 83 e^{\\frac{1}{3}} + 47 e^{\\frac{5}{6}} + 131 + 47 e^{\\frac{7}{6}} + 83 e + 47 e^{\\frac{11}{6}} + 47 e^{\\frac{13}{6}} + 95 e^{2} + 47 e^{3}}{72 \\left(- e^{\\frac{8}{3}} - e^{\\frac{5}{2}} - e^{\\frac{7}{3}} - 2 e^{\\frac{3}{2}} - e^{\\frac{2}{3}} - e^{\\frac{1}{2}} - e^{\\frac{1}{3}} + 1 + e^{\\frac{5}{6}} + e + e^{\\frac{7}{6}} + e^{\\frac{11}{6}} + e^{2} + e^{\\frac{13}{6}} + e^{3}\\right)}$"
      ],
      "text/plain": [
       "     2  8/3      2  5/2      2  7/3       2  3/2      2  2/3      2  1/2      \n",
       "- 6⋅d ⋅ℯ    - 6⋅d ⋅ℯ    - 6⋅d ⋅ℯ    - 12⋅d ⋅ℯ    - 6⋅d ⋅ℯ    - 6⋅d ⋅ℯ    - 6⋅d\n",
       "──────────────────────────────────────────────────────────────────────────────\n",
       "                                                                              \n",
       "                                                                              \n",
       "\n",
       "2  1/3      2      2  5/6        2      2  7/6      2  11/6      2  2      2  \n",
       " ⋅ℯ    + 6⋅d  + 6⋅d ⋅ℯ    + 6⋅ℯ⋅d  + 6⋅d ⋅ℯ    + 6⋅d ⋅ℯ     + 6⋅d ⋅ℯ  + 6⋅d ⋅ℯ\n",
       "──────────────────────────────────────────────────────────────────────────────\n",
       "                                                                              \n",
       "                                                                              \n",
       "\n",
       "13/6      2  3         8/3         5/2         7/3         3/2         2/3    \n",
       "     + 6⋅d ⋅ℯ  - 36⋅d⋅ℯ    - 36⋅d⋅ℯ    - 36⋅d⋅ℯ    - 72⋅d⋅ℯ    - 36⋅d⋅ℯ    - 3\n",
       "──────────────────────────────────────────────────────────────────────────────\n",
       "                                    ⎛   8/3    5/2    7/3      3/2    2/3    1\n",
       "                                 72⋅⎝- ℯ    - ℯ    - ℯ    - 2⋅ℯ    - ℯ    - ℯ \n",
       "\n",
       "     1/2         1/3                5/6                  7/6         11/6     \n",
       "6⋅d⋅ℯ    - 36⋅d⋅ℯ    + 36⋅d + 36⋅d⋅ℯ    + 36⋅ℯ⋅d + 36⋅d⋅ℯ    + 36⋅d⋅ℯ     + 36\n",
       "──────────────────────────────────────────────────────────────────────────────\n",
       "/2    1/3        5/6        7/6    11/6    2    13/6    3⎞                    \n",
       "   - ℯ    + 1 + ℯ    + ℯ + ℯ    + ℯ     + ℯ  + ℯ     + ℯ ⎠                    \n",
       "\n",
       "    2         13/6         3       8/3        3/2       5/2       7/3       2/\n",
       "⋅d⋅ℯ  + 36⋅d⋅ℯ     + 36⋅d⋅ℯ  - 47⋅ℯ    - 142⋅ℯ    - 47⋅ℯ    - 47⋅ℯ    - 83⋅ℯ  \n",
       "──────────────────────────────────────────────────────────────────────────────\n",
       "                                                                              \n",
       "                                                                              \n",
       "\n",
       "3       1/2       1/3       5/6             7/6              11/6       13/6  \n",
       "  - 95⋅ℯ    - 83⋅ℯ    + 47⋅ℯ    + 131 + 47⋅ℯ    + 83⋅ℯ + 47⋅ℯ     + 47⋅ℯ     +\n",
       "──────────────────────────────────────────────────────────────────────────────\n",
       "                                                                              \n",
       "                                                                              \n",
       "\n",
       "     2       3\n",
       " 95⋅ℯ  + 47⋅ℯ \n",
       "──────────────\n",
       "              \n",
       "              "
      ]
     },
     "execution_count": 38,
     "metadata": {},
     "output_type": "execute_result"
    }
   ],
   "source": [
    "simplify( limit(Sum(t,d), t, 0) )"
   ]
  },
  {
   "cell_type": "code",
   "execution_count": null,
   "metadata": {},
   "outputs": [],
   "source": []
  },
  {
   "cell_type": "code",
   "execution_count": null,
   "metadata": {},
   "outputs": [],
   "source": []
  },
  {
   "cell_type": "markdown",
   "metadata": {},
   "source": [
    "## "
   ]
  }
 ],
 "metadata": {
  "kernelspec": {
   "display_name": "Python 3",
   "language": "python",
   "name": "python3"
  },
  "language_info": {
   "codemirror_mode": {
    "name": "ipython",
    "version": 3
   },
   "file_extension": ".py",
   "mimetype": "text/x-python",
   "name": "python",
   "nbconvert_exporter": "python",
   "pygments_lexer": "ipython3",
   "version": "3.8.5"
  }
 },
 "nbformat": 4,
 "nbformat_minor": 4
}
